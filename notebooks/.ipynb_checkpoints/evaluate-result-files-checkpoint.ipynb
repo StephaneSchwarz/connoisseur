{
 "cells": [
  {
   "cell_type": "code",
   "execution_count": 4,
   "metadata": {},
   "outputs": [],
   "source": [
    "%matplotlib inline\n",
    "\n",
    "import sys\n",
    "import json\n",
    "import warnings\n",
    "\n",
    "import numpy as np\n",
    "import pandas as pd\n",
    "\n",
    "import matplotlib\n",
    "import matplotlib.pyplot as plt\n",
    "import seaborn as snb; snb.set()\n",
    "\n",
    "from sklearn import metrics\n",
    "\n",
    "warnings.filterwarnings(\"ignore\")"
   ]
  },
  {
   "cell_type": "code",
   "execution_count": 5,
   "metadata": {},
   "outputs": [],
   "source": [
    "solution_file = '/datasets/pbn/solution_painter.csv'\n",
    "submission_info_file = '/datasets/pbn/submission_info.csv'\n",
    "info_file = '/datasets/pbn/all_data_info.csv'\n",
    "\n",
    "labels = ['different-artist', 'same-artist']\n",
    "\n",
    "strategy = 'mean'"
   ]
  },
  {
   "cell_type": "markdown",
   "metadata": {},
   "source": [
    "### Reading Solution and Submission Info"
   ]
  },
  {
   "cell_type": "code",
   "execution_count": 6,
   "metadata": {},
   "outputs": [
    {
     "data": {
      "text/html": [
       "<div>\n",
       "<style scoped>\n",
       "    .dataframe tbody tr th:only-of-type {\n",
       "        vertical-align: middle;\n",
       "    }\n",
       "\n",
       "    .dataframe tbody tr th {\n",
       "        vertical-align: top;\n",
       "    }\n",
       "\n",
       "    .dataframe thead th {\n",
       "        text-align: right;\n",
       "    }\n",
       "</style>\n",
       "<table border=\"1\" class=\"dataframe\">\n",
       "  <thead>\n",
       "    <tr style=\"text-align: right;\">\n",
       "      <th></th>\n",
       "      <th>image1</th>\n",
       "      <th>image2</th>\n",
       "    </tr>\n",
       "    <tr>\n",
       "      <th>index</th>\n",
       "      <th></th>\n",
       "      <th></th>\n",
       "    </tr>\n",
       "  </thead>\n",
       "  <tbody>\n",
       "    <tr>\n",
       "      <th>0</th>\n",
       "      <td>100005.jpg</td>\n",
       "      <td>100004.jpg</td>\n",
       "    </tr>\n",
       "    <tr>\n",
       "      <th>1</th>\n",
       "      <td>100014.jpg</td>\n",
       "      <td>100004.jpg</td>\n",
       "    </tr>\n",
       "    <tr>\n",
       "      <th>2</th>\n",
       "      <td>100014.jpg</td>\n",
       "      <td>100005.jpg</td>\n",
       "    </tr>\n",
       "    <tr>\n",
       "      <th>3</th>\n",
       "      <td>100022.jpg</td>\n",
       "      <td>100004.jpg</td>\n",
       "    </tr>\n",
       "    <tr>\n",
       "      <th>4</th>\n",
       "      <td>100022.jpg</td>\n",
       "      <td>100005.jpg</td>\n",
       "    </tr>\n",
       "  </tbody>\n",
       "</table>\n",
       "</div>"
      ],
      "text/plain": [
       "           image1      image2\n",
       "index                        \n",
       "0      100005.jpg  100004.jpg\n",
       "1      100014.jpg  100004.jpg\n",
       "2      100014.jpg  100005.jpg\n",
       "3      100022.jpg  100004.jpg\n",
       "4      100022.jpg  100005.jpg"
      ]
     },
     "metadata": {},
     "output_type": "display_data"
    }
   ],
   "source": [
    "solution, info, submission = map(pd.read_csv, (solution_file,\n",
    "                                               info_file,\n",
    "                                               submission_info_file))\n",
    "\n",
    "[f.set_index('index', inplace=True) for f in [solution, submission]]\n",
    "info.set_index('new_filename', inplace=True)\n",
    "display(submission.head())"
   ]
  },
  {
   "cell_type": "code",
   "execution_count": 7,
   "metadata": {},
   "outputs": [],
   "source": [
    "info_features = 'artist_group in_train'.split()\n",
    "\n",
    "z = submission.join(solution, how='left')\n",
    "z = pd.merge(z, info[info_features], left_on='image1', right_on='new_filename', how='left')\n",
    "z = pd.merge(z, info[info_features], left_on='image2', right_on='new_filename', how='left')"
   ]
  },
  {
   "cell_type": "code",
   "execution_count": 8,
   "metadata": {
    "scrolled": false
   },
   "outputs": [
    {
     "data": {
      "image/png": "[encoded data removed]",
      "text/plain": [
       "<Figure size 1152x432 with 1 Axes>"
      ]
     },
     "metadata": {},
     "output_type": "display_data"
    },
    {
     "data": {
      "image/png": "[encoded data removed]",
      "text/plain": [
       "<Figure size 1152x432 with 1 Axes>"
      ]
     },
     "metadata": {},
     "output_type": "display_data"
    }
   ],
   "source": [
    "for column in 'sameArtist artist_group_x'.split():\n",
    "    plt.figure(figsize=(16, 6))\n",
    "    plt.title(f'{column} Aggregation')\n",
    "    l, c = np.unique(z[column], return_counts=True)\n",
    "    snb.barplot(x=l, y=c)"
   ]
  },
  {
   "cell_type": "markdown",
   "metadata": {},
   "source": [
    "## Evaluating Answer"
   ]
  },
  {
   "cell_type": "code",
   "execution_count": 9,
   "metadata": {},
   "outputs": [],
   "source": [
    "answers = [\n",
    "    '/work/painter-by-numbers/wlogs/generate-softmax-l2/5/answer.csv',\n",
    "    '/work/painter-by-numbers/wlogs/generate-softmax-sigmoid/1/answer.csv',\n",
    "    '/work/painter-by-numbers/dl-08/painter-by-numbers/wlogs/answer-sigmoid-1024/1/answer-mean.csv',\n",
    "    '/work/painter-by-numbers/dl-08/painter-by-numbers/wlogs/answer/5/answer-mean.csv',\n",
    "    '/work/painter-by-numbers/dl-08/painter-by-numbers/wlogs/answer/7/answer-mean.csv',\n",
    "]"
   ]
  },
  {
   "cell_type": "code",
   "execution_count": 10,
   "metadata": {},
   "outputs": [],
   "source": [
    "def confusion_matrix(y, c, tag):\n",
    "    plt.figure()\n",
    "    plt.title(f'Confusion Matrix {tag}')\n",
    "    cm = metrics.confusion_matrix(y, c).astype('float')\n",
    "    cm /= cm.sum(axis=1, keepdims=True)\n",
    "    snb.heatmap(cm, cmap=\"YlGnBu\", linewidths=.5, annot=True, fmt='.2f')\n",
    "    \n",
    "def evaluate(y, p, c, tag):\n",
    "    try:\n",
    "        print('    ROC auc:', metrics.roc_auc_score(y, p))\n",
    "        print(metrics.classification_report(y, c))\n",
    "        confusion_matrix(y, c, tag)\n",
    "        \n",
    "        plt.figure(figsize=(16, 6))\n",
    "        plt.title(f'Answer Distribution for {tag}')\n",
    "        snb.distplot(p)\n",
    "    except ValueError as e:\n",
    "        print(e, file=sys.stderr)"
   ]
  },
  {
   "cell_type": "code",
   "execution_count": null,
   "metadata": {
    "scrolled": false
   },
   "outputs": [
    {
     "name": "stdout",
     "output_type": "stream",
     "text": [
      "\n",
      "Evaluating answer file \"/work/painter-by-numbers/wlogs/generate-softmax-l2/5/answer.csv\"\n"
     ]
    }
   ],
   "source": [
    "for answer_file in answers:\n",
    "    print(f'\\nEvaluating answer file \"{answer_file}\"')\n",
    "    answer = pd.read_csv(answer_file)['sameArtist']\n",
    "    \n",
    "    print('  General evaluation:')\n",
    "    evaluate(z['sameArtist'],\n",
    "             answer,\n",
    "             answer >= .5,\n",
    "             answer_file)\n",
    "\n",
    "    for tag in ['train_and_test', 'test_only']:\n",
    "        print(f'  Evaluation of sub-group {tag}:')\n",
    "        selected = z['artist_group_x'] == tag\n",
    "        zs, answer_s = z[selected], answer[selected]\n",
    "        evaluate(zs['sameArtist'],\n",
    "                 answer_s,\n",
    "                 answer_s >= .5,\n",
    "                 tag=answer_file)"
   ]
  }
 ],
 "metadata": {
  "kernelspec": {
   "display_name": "Python 3",
   "language": "python",
   "name": "python3"
  },
  "language_info": {
   "codemirror_mode": {
    "name": "ipython",
    "version": 3
   },
   "file_extension": ".py",
   "mimetype": "text/x-python",
   "name": "python",
   "nbconvert_exporter": "python",
   "pygments_lexer": "ipython3",
   "version": "3.6.5"
  }
 },
 "nbformat": 4,
 "nbformat_minor": 2
}
